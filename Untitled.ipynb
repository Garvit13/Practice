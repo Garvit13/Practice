{
 "cells": [
  {
   "cell_type": "code",
   "execution_count": null,
   "metadata": {},
   "outputs": [
    {
     "name": "stdout",
     "output_type": "stream",
     "text": [
      "Toss!!! Enter 1 for odd and 2 for even : \n",
      "1\n",
      "Enter your number : 1\n",
      "10\n",
      "Your Choice enter 1 to bat and 2 to ball : \n",
      "2\n",
      "Enter your number : 1\n",
      "6\n",
      "Enter your number : 1\n",
      "8\n",
      "Enter your number : 1\n",
      "6\n",
      "Enter your number : 1\n",
      "5\n",
      "Enter your number : 1\n",
      "0\n",
      "Enter your number : 100\n",
      "6\n",
      "Enter your number : 10000\n",
      "11\n",
      "Enter your number : 3\n",
      "3\n",
      "Out!!!\n",
      "Score was 42\n",
      "Enter your number : 1000\n",
      "8\n",
      "You won the game!!!\n"
     ]
    }
   ],
   "source": [
    "import odd_or_eve.py"
   ]
  },
  {
   "cell_type": "code",
   "execution_count": 3,
   "metadata": {},
   "outputs": [],
   "source": []
  }
 ],
 "metadata": {
  "kernelspec": {
   "display_name": "Python 3",
   "language": "python",
   "name": "python3"
  },
  "language_info": {
   "codemirror_mode": {
    "name": "ipython",
    "version": 3
   },
   "file_extension": ".py",
   "mimetype": "text/x-python",
   "name": "python",
   "nbconvert_exporter": "python",
   "pygments_lexer": "ipython3",
   "version": "3.8.1"
  }
 },
 "nbformat": 4,
 "nbformat_minor": 4
}
